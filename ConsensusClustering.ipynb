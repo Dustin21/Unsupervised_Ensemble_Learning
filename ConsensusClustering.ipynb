{
 "cells": [
  {
   "cell_type": "code",
   "execution_count": 1,
   "metadata": {
    "collapsed": true
   },
   "outputs": [],
   "source": [
    "from HungarianAlgo import Hungarian\n",
    "from sklearn.cluster import KMeans\n",
    "from sklearn import datasets\n",
    "import pandas as pd\n",
    "import numpy as np\n",
    "\n",
    "from Bootstrap import *\n",
    "from HungarianAlgo import *\n",
    "from Prepare import *\n",
    "from OptimalClusters import *\n",
    "from RunningAlgos import *\n",
    "from Consensus import *\n",
    "\n",
    "%matplotlib inline\n",
    "\n",
    "\n",
    "# initialize consts\n",
    "np.random.seed(666)\n",
    "MAX_K = 8                     # MAX K used for optimal K sweep\n",
    "BOOTSTRAP_SIZE = int(159*1)   # size of each bootstrap sample\n",
    "BOOTSTRAP_N = 20              # number of bootstrap samples (YOU CAN PLAY AROUND WITH THIS)\n",
    "DATA_START_INDEX = 1          # account for df's named index column 0 (DON'T CHANGE THIS UNLESS YOUR DATASET NEEDS IT)\n",
    "DO_K_SWEEP = True             # switch to do sweep of K values using K means to find optimal K\n",
    "OPTIMAL_K = 3                 # Iris dataset has 3 clusters (ground truth), change this for different datasets"
   ]
  },
  {
   "cell_type": "code",
   "execution_count": 2,
   "metadata": {},
   "outputs": [],
   "source": [
    "# import data\n",
    "iris = datasets.load_iris()\n",
    "df = pd.DataFrame(data= np.c_[iris['data']], columns= iris['feature_names'] )"
   ]
  },
  {
   "cell_type": "code",
   "execution_count": 3,
   "metadata": {},
   "outputs": [],
   "source": [
    "# prepare data (add index column 'flower')\n",
    "prep = Prepare('flower', len(df)).names_join(df)\n",
    "df = prep['df']\n",
    "labels = prep['labels']"
   ]
  },
  {
   "cell_type": "code",
   "execution_count": 4,
   "metadata": {},
   "outputs": [],
   "source": [
    "# generate bootstrap samples\n",
    "bts = Bootstrap(df, BOOTSTRAP_SIZE, BOOTSTRAP_N).get_bootstraps()"
   ]
  },
  {
   "cell_type": "code",
   "execution_count": 5,
   "metadata": {},
   "outputs": [
    {
     "name": "stdout",
     "output_type": "stream",
     "text": [
      "running K means\nK = 2 N = 0\nK = 2 N = 1\nK = 2 N = 2\nK = 2 N = 3\nK = 2 N = 4\nK = 2 N = 5\nK = 2 N = 6\nK = 2 N = 7\nK = 2 N = 8\nK = 2 N = 9\n"
     ]
    },
    {
     "name": "stdout",
     "output_type": "stream",
     "text": [
      "K = 2 N = 10\nK = 2 N = 11\nK = 2 N = 12\nK = 2 N = 13\nK = 2 N = 14\nK = 2 N = 15\nK = 2 N = 16\nK = 2 N = 17\nK = 2 N = 18\nK = 2 N = 19\nK = 3 N = 0\n"
     ]
    },
    {
     "name": "stdout",
     "output_type": "stream",
     "text": [
      "K = 3 N = 1\nK = 3 N = 2\nK = 3 N = 3\nK = 3 N = 4\nK = 3 N = 5\nK = 3 N = 6\nK = 3 N = 7\nK = 3 N = 8\nK = 3 N = 9"
     ]
    },
    {
     "name": "stdout",
     "output_type": "stream",
     "text": [
      "\nK = 3 N = 10\nK = 3 N = 11\nK = 3 N = 12\nK = 3 N = 13\nK = 3 N = 14\nK = 3 N = 15\nK = 3 N = 16\nK = 3 N = 17\n"
     ]
    },
    {
     "name": "stdout",
     "output_type": "stream",
     "text": [
      "K = 3 N = 18\nK = 3 N = 19\nK = 4 N = 0\nK = 4 N = 1\nK = 4 N = 2\nK = 4 N = 3\nK = 4 N = 4\nK = 4 N = 5\n"
     ]
    },
    {
     "name": "stdout",
     "output_type": "stream",
     "text": [
      "K = 4 N = 6\nK = 4 N = 7\nK = 4 N = 8\nK = 4 N = 9\nK = 4 N = 10\nK = 4 N = 11\n"
     ]
    },
    {
     "name": "stdout",
     "output_type": "stream",
     "text": [
      "K = 4 N = 12\nK = 4 N = 13\nK = 4 N = 14\nK = 4 N = 15\nK = 4 N = 16\n"
     ]
    },
    {
     "name": "stdout",
     "output_type": "stream",
     "text": [
      "K = 4 N = 17\nK = 4 N = 18\nK = 4 N = 19\nK = 5 N = 0\nK = 5 N = 1\nK = 5 N = 2\nK = 5 N = 3\n"
     ]
    },
    {
     "name": "stdout",
     "output_type": "stream",
     "text": [
      "K = 5 N = 4\nK = 5 N = 5\nK = 5 N = 6\nK = 5 N = 7\nK = 5 N = 8\n"
     ]
    },
    {
     "name": "stdout",
     "output_type": "stream",
     "text": [
      "K = 5 N = 9\nK = 5 N = 10\nK = 5 N = 11\n"
     ]
    },
    {
     "name": "stdout",
     "output_type": "stream",
     "text": [
      "K = 5 N = 12\nK = 5 N = 13\nK = 5 N = 14\nK = 5 N = 15\nK = 5 N = 16\n"
     ]
    },
    {
     "name": "stdout",
     "output_type": "stream",
     "text": [
      "K = 5 N = 17\nK = 5 N = 18\nK = 5 N = 19\nK = 6 N = 0\nK = 6 N = 1\n"
     ]
    },
    {
     "name": "stdout",
     "output_type": "stream",
     "text": [
      "K = 6 N = 2\nK = 6 N = 3\nK = 6 N = 4\nK = 6 N = 5\n"
     ]
    },
    {
     "name": "stdout",
     "output_type": "stream",
     "text": [
      "K = 6 N = 6\nK = 6 N = 7\nK = 6 N = 8\n"
     ]
    },
    {
     "name": "stdout",
     "output_type": "stream",
     "text": [
      "K = 6 N = 9\nK = 6 N = 10\nK = 6 N = 11\nK = 6 N = 12\n"
     ]
    },
    {
     "name": "stdout",
     "output_type": "stream",
     "text": [
      "K = 6 N = 13\nK = 6 N = 14\nK = 6 N = 15\nK = 6 N = 16\n"
     ]
    },
    {
     "name": "stdout",
     "output_type": "stream",
     "text": [
      "K = 6 N = 17\nK = 6 N = 18\nK = 6 N = 19\n"
     ]
    },
    {
     "name": "stdout",
     "output_type": "stream",
     "text": [
      "K = 7 N = 0\nK = 7 N = 1\nK = 7 N = 2\nK = 7 N = 3"
     ]
    },
    {
     "name": "stdout",
     "output_type": "stream",
     "text": [
      "\nK = 7 N = 4\nK = 7 N = 5\nK = 7 N = 6\nK = 7 N = 7\n"
     ]
    },
    {
     "name": "stdout",
     "output_type": "stream",
     "text": [
      "K = 7 N = 8\nK = 7 N = 9\nK = 7 N = 10\nK = 7 N = 11\nK = 7 N = 12"
     ]
    },
    {
     "name": "stdout",
     "output_type": "stream",
     "text": [
      "\nK = 7 N = 13\nK = 7 N = 14\nK = 7 N = 15\n"
     ]
    },
    {
     "name": "stdout",
     "output_type": "stream",
     "text": [
      "K = 7 N = 16\nK = 7 N = 17\nK = 7 N = 18\nK = 7 N = 19\nK = 8 N = 0\n"
     ]
    },
    {
     "name": "stdout",
     "output_type": "stream",
     "text": [
      "K = 8 N = 1\nK = 8 N = 2\nK = 8 N = 3\nK = 8 N = 4\n"
     ]
    },
    {
     "name": "stdout",
     "output_type": "stream",
     "text": [
      "K = 8 N = 5\nK = 8 N = 6\nK = 8 N = 7\nK = 8 N = 8\n"
     ]
    },
    {
     "name": "stdout",
     "output_type": "stream",
     "text": [
      "K = 8 N = 9\nK = 8 N = 10\nK = 8 N = 11\nK = 8 N = 12\n"
     ]
    },
    {
     "name": "stdout",
     "output_type": "stream",
     "text": [
      "K = 8 N = 13\nK = 8 N = 14\nK = 8 N = 15\nK = 8 N = 16\n"
     ]
    },
    {
     "name": "stdout",
     "output_type": "stream",
     "text": [
      "K = 8 N = 17\nK = 8 N = 18\nK = 8 N = 19\nrunning optimal K\nK = 2 within cluster var = 7.62268368193\n"
     ]
    },
    {
     "name": "stdout",
     "output_type": "stream",
     "text": [
      "K = 2 within cluster var = 7.73530499085\nK = 2 within cluster var = 7.19022436455\nK = 2 within cluster var = 7.80757035353\nK = 2 within cluster var = 7.97033868123\nK = 2 within cluster var = 7.18143582815\nK = 2 within cluster var = 7.61003061786\nK = 2 within cluster var = 7.0789031215\n"
     ]
    },
    {
     "name": "stdout",
     "output_type": "stream",
     "text": [
      "K = 2 within cluster var = 7.36768576123\nK = 2 within cluster var = 7.57958544473\nK = 2 within cluster var = 7.49466232111\nK = 2 within cluster var = 7.47748905065\nK = 2 within cluster var = 7.01412182089\nK = 2 within cluster var = 7.42601486466\n"
     ]
    },
    {
     "name": "stdout",
     "output_type": "stream",
     "text": [
      "K = 2 within cluster var = 7.99632027058\nK = 2 within cluster var = 7.07164187648\nK = 2 within cluster var = 7.73527604237\nK = 2 within cluster var = 7.86986161766\nK = 2 within cluster var = 7.9709411571\nK = 2 within cluster var = 7.7589067971"
     ]
    },
    {
     "name": "stdout",
     "output_type": "stream",
     "text": [
      "\nK = 3 within cluster var = 5.99312778896\nK = 3 within cluster var = 5.86254813129\nK = 3 within cluster var = 5.62387728006\nK = 3 within cluster var = 6.11348066141\nK = 3 within cluster var = 6.115173277\nK = 3 within cluster var = 5.98096225244\nK = 3 within cluster var = 6.08139915887\n"
     ]
    },
    {
     "name": "stdout",
     "output_type": "stream",
     "text": [
      "K = 3 within cluster var = 5.65693452855\nK = 3 within cluster var = 5.51586753668\nK = 3 within cluster var = 6.08480495627\nK = 3 within cluster var = 5.84827178061\nK = 3 within cluster var = 6.11823506015\nK = 3 within cluster var = 5.78273388812\nK = 3 within cluster var = 5.93324046289\n"
     ]
    },
    {
     "name": "stdout",
     "output_type": "stream",
     "text": [
      "K = 3 within cluster var = 6.03591211087\nK = 3 within cluster var = 5.42247299981\nK = 3 within cluster var = 6.36975528333\nK = 3 within cluster var = 6.00478570964\nK = 3 within cluster var = 6.00466043257\nK = 3 within cluster var = 6.12879211293\nK = 4 within cluster var = 5.20366284366\nK = 4 within cluster var = 5.50372454251\nK = 4 within cluster var = 5.20761658473\n"
     ]
    },
    {
     "name": "stdout",
     "output_type": "stream",
     "text": [
      "K = 4 within cluster var = 5.59393365198\nK = 4 within cluster var = 5.70957295141\nK = 4 within cluster var = 5.2592738591\nK = 4 within cluster var = 5.55410194493\nK = 4 within cluster var = 5.17358619621\nK = 4 within cluster var = 5.04467395746\n"
     ]
    },
    {
     "name": "stdout",
     "output_type": "stream",
     "text": [
      "K = 4 within cluster var = 5.55456039461\nK = 4 within cluster var = 5.29679770794\nK = 4 within cluster var = 5.68710171031\nK = 4 within cluster var = 5.09937116611\nK = 4 within cluster var = 5.22666922006\nK = 4 within cluster var = 5.31080879425\n"
     ]
    },
    {
     "name": "stdout",
     "output_type": "stream",
     "text": [
      "K = 4 within cluster var = 5.05729870436\nK = 4 within cluster var = 5.7171803839\nK = 4 within cluster var = 5.61347710504\n"
     ]
    },
    {
     "name": "stdout",
     "output_type": "stream",
     "text": [
      "K = 4 within cluster var = 5.56235877001\nK = 4 within cluster var = 5.79452098177\nK = 5 within cluster var = 4.83768457808\nK = 5 within cluster var = 5.28390516931\n"
     ]
    },
    {
     "name": "stdout",
     "output_type": "stream",
     "text": [
      "K = 5 within cluster var = 5.00184795217\nK = 5 within cluster var = 5.45922809969\nK = 5 within cluster var = 5.39390787309\nK = 5 within cluster var = 5.20784805593\nK = 5 within cluster var = 5.24701022673\nK = 5 within cluster var = 5.06726982415"
     ]
    },
    {
     "name": "stdout",
     "output_type": "stream",
     "text": [
      "\nK = 5 within cluster var = 5.10156757915\nK = 5 within cluster var = 5.30785271644\nK = 5 within cluster var = 5.0964346082\n"
     ]
    },
    {
     "name": "stdout",
     "output_type": "stream",
     "text": [
      "K = 5 within cluster var = 5.38512884182\nK = 5 within cluster var = 5.1502283993\nK = 5 within cluster var = 5.11532942296\nK = 5 within cluster var = 5.33092667263\nK = 5 within cluster var = 4.7894052185\nK = 5 within cluster var = 5.43167568014\nK = 5 within cluster var = 5.21725643144"
     ]
    },
    {
     "name": "stdout",
     "output_type": "stream",
     "text": [
      "\nK = 5 within cluster var = 5.40524487044\nK = 5 within cluster var = 5.50753870421\nK = 6 within cluster var = 4.5891798851\nK = 6 within cluster var = 5.17450020091\nK = 6 within cluster var = 4.75895267174\nK = 6 within cluster var = 5.29676163506\nK = 6 within cluster var = 5.25531457954\n"
     ]
    },
    {
     "name": "stdout",
     "output_type": "stream",
     "text": [
      "K = 6 within cluster var = 5.16884496355\nK = 6 within cluster var = 5.10383309871\nK = 6 within cluster var = 4.97949315945\nK = 6 within cluster var = 5.15356859341\nK = 6 within cluster var = 5.13974037731\nK = 6 within cluster var = 5.0804669088\nK = 6 within cluster var = 5.18990024651\n"
     ]
    },
    {
     "name": "stdout",
     "output_type": "stream",
     "text": [
      "K = 6 within cluster var = 5.06675835117\nK = 6 within cluster var = 5.12283796992\nK = 6 within cluster var = 5.19492025353\nK = 6 within cluster var = 4.81160463653\nK = 6 within cluster var = 5.44238263282\nK = 6 within cluster var = 5.18879054908\nK = 6 within cluster var = 5.41058408678"
     ]
    },
    {
     "name": "stdout",
     "output_type": "stream",
     "text": [
      "\nK = 6 within cluster var = 5.24227699284\nK = 7 within cluster var = 4.68046919653\nK = 7 within cluster var = 5.19373358215\nK = 7 within cluster var = 4.83041364691\nK = 7 within cluster var = 5.30498971969\n"
     ]
    },
    {
     "name": "stdout",
     "output_type": "stream",
     "text": [
      "K = 7 within cluster var = 5.24008451004\nK = 7 within cluster var = 5.09911547497\nK = 7 within cluster var = 5.12354457155\nK = 7 within cluster var = 4.91816873726\nK = 7 within cluster var = 5.08217087166\n"
     ]
    },
    {
     "name": "stdout",
     "output_type": "stream",
     "text": [
      "K = 7 within cluster var = 5.28161334437\nK = 7 within cluster var = 5.18765729523\nK = 7 within cluster var = 5.10725314235\n"
     ]
    },
    {
     "name": "stdout",
     "output_type": "stream",
     "text": [
      "K = 7 within cluster var = 5.05082170181\nK = 7 within cluster var = 5.21127881991\nK = 7 within cluster var = 5.24694080168\nK = 7 within cluster var = 4.81032592757\nK = 7 within cluster var = 5.3469105235\n"
     ]
    },
    {
     "name": "stdout",
     "output_type": "stream",
     "text": [
      "K = 7 within cluster var = 5.25008243619\nK = 7 within cluster var = 5.41572733491\nK = 7 within cluster var = 5.4203250912\nK = 8 within cluster var = 4.75645100846\nK = 8 within cluster var = 5.3212923068\nK = 8 within cluster var = 5.04346245005\nK = 8 within cluster var = 5.42994583007\n"
     ]
    },
    {
     "name": "stdout",
     "output_type": "stream",
     "text": [
      "K = 8 within cluster var = 5.39539906265\nK = 8 within cluster var = 5.26191955683\nK = 8 within cluster var = 5.27366928803\nK = 8 within cluster var = 4.90351544342\nK = 8 within cluster var = 5.2386617512\nK = 8 within cluster var = 5.40999557599\nK = 8 within cluster var = 5.41911521993\nK = 8 within cluster var = 5.14374667201\n"
     ]
    },
    {
     "name": "stdout",
     "output_type": "stream",
     "text": [
      "K = 8 within cluster var = 5.21720947349\nK = 8 within cluster var = 5.27901010624\nK = 8 within cluster var = 5.46498806785\nK = 8 within cluster var = 4.93939163056\nK = 8 within cluster var = 5.4459244047\nK = 8 within cluster var = 5.39793599263\nK = 8 within cluster var = 5.54764442352\n"
     ]
    },
    {
     "name": "stdout",
     "output_type": "stream",
     "text": [
      "K = 8 within cluster var = 5.48744867899\nK = 2 btw cluster var = 3.92006056869\nK = 2 btw cluster var = 4.07875635281\nK = 2 btw cluster var = 4.18732338495\nK = 2 btw cluster var = 3.85077655713\nK = 2 btw cluster var = 4.17138792245\nK = 2 btw cluster var = 3.85498372355\nK = 2 btw cluster var = 4.02114381392\nK = 2 btw cluster var = 3.85053859375\nK = 2 btw cluster var = 3.78552801515\nK = 2 btw cluster var = 4.10625493096\nK = 2 btw cluster var = 3.93759016067\nK = 2 btw cluster var = 3.95678094117\nK = 2 btw cluster var = 3.89505454794\nK = 2 btw cluster var = 3.97659970147\nK = 2 btw cluster var = 3.92777447909\nK = 2 btw cluster var = 3.90691906535\nK = 2 btw cluster var = 3.96262431132\nK = 2 btw cluster var = 4.05840329325\nK = 2 btw cluster var = 3.84642798202\nK = 2 btw cluster var = 4.21077949026\nK = 3 btw cluster var = 2.82267633476\nK = 3 btw cluster var = 2.76999528152\nK = 3 btw cluster var = 2.9264185554\nK = 3 btw cluster var = 2.5730893546\nK = 3 btw cluster var = 2.97198415267\nK = 3 btw cluster var = 2.88324552462\nK = 3 btw cluster var = 2.85946564559\nK = 3 btw cluster var = 2.73797767844\nK = 3 btw cluster var = 2.66358383089\nK = 3 btw cluster var = 2.86282177533\nK = 3 btw cluster var = 2.83615957448\nK = 3 btw cluster var = 2.84661694218\nK = 3 btw cluster var = 2.79216743786\nK = 3 btw cluster var = 2.8708296214\nK = 3 btw cluster var = 2.86511528291\nK = 3 btw cluster var = 2.76658966505\nK = 3 btw cluster var = 2.86557486244\nK = 3 btw cluster var = 2.84837273765\nK = 3 btw cluster var = 2.82676188285\nK = 3 btw cluster var = 2.91326975436\nK = 4 btw cluster var = 2.25026716881\nK = 4 btw cluster var = 2.36821803945\nK = 4 btw cluster var = 2.5239791661\nK = 4 btw cluster var = 2.37648184742\nK = 4 btw cluster var = 2.23629297568\nK = 4 btw cluster var = 2.26928917959\nK = 4 btw cluster var = 2.28242843116\nK = 4 btw cluster var = 2.15887301191\nK = 4 btw cluster var = 2.11104291779\nK = 4 btw cluster var = 2.45028385077\nK = 4 btw cluster var = 2.26698722296\nK = 4 btw cluster var = 2.38944702465\nK = 4 btw cluster var = 2.19496898234\nK = 4 btw cluster var = 2.23933389629\nK = 4 btw cluster var = 2.32176638221\nK = 4 btw cluster var = 2.12846131539\nK = 4 btw cluster var = 2.4198156397\nK = 4 btw cluster var = 2.2656902582\nK = 4 btw cluster var = 2.32413755253\nK = 4 btw cluster var = 2.40546435295\nK = 5 btw cluster var = 2.17408246643\nK = 5 btw cluster var = 2.13766761391\nK = 5 btw cluster var = 2.10664009329\nK = 5 btw cluster var = 2.55226086406\nK = 5 btw cluster var = 2.14567497075\nK = 5 btw cluster var = 2.24512019645\nK = 5 btw cluster var = 2.12637296475\nK = 5 btw cluster var = 2.07002669195\nK = 5 btw cluster var = 2.06471142174\nK = 5 btw cluster var = 2.10351737948\nK = 5 btw cluster var = 2.50263231072\nK = 5 btw cluster var = 2.12750772818\nK = 5 btw cluster var = 2.11189920451\nK = 5 btw cluster var = 2.45578461306\nK = 5 btw cluster var = 2.10491979225\nK = 5 btw cluster var = 2.43837617592\nK = 5 btw cluster var = 2.24134123586\nK = 5 btw cluster var = 2.17982194597\nK = 5 btw cluster var = 2.08841107641\nK = 5 btw cluster var = 2.22725502001\nK = 6 btw cluster var = 2.46803166333\nK = 6 btw cluster var = 2.41530988996\nK = 6 btw cluster var = 2.41200456535\nK = 6 btw cluster var = 2.39956364956\nK = 6 btw cluster var = 2.47056565235\nK = 6 btw cluster var = 1.89054332864\nK = 6 btw cluster var = 2.44775992927\nK = 6 btw cluster var = 1.78075606306\nK = 6 btw cluster var = 1.92575141245\nK = 6 btw cluster var = 2.40321239347\nK = 6 btw cluster var = 2.45708343504\nK = 6 btw cluster var = 2.42079635784\nK = 6 btw cluster var = 2.42910754027\nK = 6 btw cluster var = 2.18851823197\nK = 6 btw cluster var = 2.23609266841\nK = 6 btw cluster var = 2.41844999331\nK = 6 btw cluster var = 2.41903211678\nK = 6 btw cluster var = 2.48642245666\nK = 6 btw cluster var = 2.43485314383\nK = 6 btw cluster var = 2.50463711648\nK = 7 btw cluster var = 2.2344795811\nK = 7 btw cluster var = 2.20417606063\nK = 7 btw cluster var = 2.1719258132\nK = 7 btw cluster var = 2.18211500411\nK = 7 btw cluster var = 2.19679722519\nK = 7 btw cluster var = 2.23195995207\nK = 7 btw cluster var = 2.19826162764\nK = 7 btw cluster var = 2.17631939094\nK = 7 btw cluster var = 2.12119780679\nK = 7 btw cluster var = 2.11860893166\nK = 7 btw cluster var = 2.19015948355\nK = 7 btw cluster var = 2.22462214545\nK = 7 btw cluster var = 2.18373947534\nK = 7 btw cluster var = 2.17897805727\nK = 7 btw cluster var = 2.22722376708\nK = 7 btw cluster var = 2.15660923096\nK = 7 btw cluster var = 2.19398157125\nK = 7 btw cluster var = 2.24546150352\nK = 7 btw cluster var = 2.16761734434\nK = 7 btw cluster var = 2.23373612142\nK = 8 btw cluster var = 2.05770774916\nK = 8 btw cluster var = 2.08928988434\nK = 8 btw cluster var = 2.1175809848\nK = 8 btw cluster var = 2.03184606066\nK = 8 btw cluster var = 2.20801413638\nK = 8 btw cluster var = 2.07794692947\nK = 8 btw cluster var = 2.37314503778\nK = 8 btw cluster var = 1.94288251957\nK = 8 btw cluster var = 2.09220368132\nK = 8 btw cluster var = 1.94888338401\nK = 8 btw cluster var = 2.10856797663\nK = 8 btw cluster var = 2.07294181621\nK = 8 btw cluster var = 2.0429478904\nK = 8 btw cluster var = 2.04480253825\nK = 8 btw cluster var = 2.25105099424\nK = 8 btw cluster var = 2.04968486748\nK = 8 btw cluster var = 2.03435794373\nK = 8 btw cluster var = 2.34625034538\nK = 8 btw cluster var = 1.97878762548\nK = 8 btw cluster var = 2.10716621306\nPseudo F:\n[[0.5142625264620535, 0.52729095460732534, 0.582363382927511, 0.49321061261913585, 0.52336394841969169, 0.53679846423395294, 0.5284004777175676, 0.54394565480815182, 0.51380150264652091, 0.54175191518097932, 0.52538593361005115, 0.5291590418079386, 0.55531606769952147, 0.5354957906681983, 0.49119774423535628, 0.55247694009300741, 0.51227962513727554, 0.51568928278726445, 0.4825563137659703, 0.54270267711417042], [0.47098550776140785, 0.47248998549608667, 0.52035604791295942, 0.42088778833354862, 0.48600162547378595, 0.48207051021741743, 0.47019864522691812, 0.48400377706724523, 0.48289481449168792, 0.47048702397309239, 0.48495686946044952, 0.46526766529843006, 0.48284556956686936, 0.48385526245875177, 0.47467809840157194, 0.51020810341526501, 0.44987204923540619, 0.4743504390303957, 0.47076132190836617, 0.47534158455370712], [0.43243907924404273, 0.43029370768104919, 0.48467069820496966, 0.42483196892731445, 0.39167429765954348, 0.43148336450648644, 0.41094464123813662, 0.41728753132371943, 0.41846964453775276, 0.44113011232130156, 0.42799203366994221, 0.42015197658939635, 0.43043914844356618, 0.42844377595234906, 0.4371775509457117, 0.42086921097863922, 0.42325333070065146, 0.40361619292316236, 0.41783308999511309, 0.41512738680453587], [0.4494055847049464, 0.40456207017536705, 0.42117235738432252, 0.46751313875388578, 0.39779599897424112, 0.4311032450141854, 0.40525420627555164, 0.40850926905248119, 0.40472097834703591, 0.39630289155636766, 0.49105551294567185, 0.39507090557527641, 0.41005932956241686, 0.48008337489165848, 0.39485063695582484, 0.50911878713057135, 0.41264268484483735, 0.41781000696752807, 0.38636752385272827, 0.40440115623793987], [0.53779362002019104, 0.46677162936999111, 0.50683516557653119, 0.45302466202637398, 0.47010804300220826, 0.36575740653254557, 0.47959247137121452, 0.35761793540694814, 0.37367338331569433, 0.46757466662699904, 0.48363339022656332, 0.46644371622883557, 0.47942044437643599, 0.42720816953818996, 0.43043830497538238, 0.50262857736640509, 0.44448034619904198, 0.47919113965773802, 0.45001669039371428, 0.47777656920892331], [0.47740503938317785, 0.42439143744303404, 0.44963557408622468, 0.41133256036461718, 0.41922935040061438, 0.43771512197140344, 0.42905094255297771, 0.44250604385610565, 0.41738026138081058, 0.40112912353192759, 0.42218661698602516, 0.43558094409043985, 0.43235330888059248, 0.41812732201950764, 0.42448044513133953, 0.4483291285107644, 0.41032696575178307, 0.42770023724535977, 0.40024491823370367, 0.41210371773585097], [0.43261409515192289, 0.392628287243245, 0.41986651150252502, 0.374192694411703, 0.40924018978800469, 0.3949028309973488, 0.44999883537788071, 0.39622237188579307, 0.39937750912139824, 0.36023751898356021, 0.38909819980844484, 0.40300231492620942, 0.39157865920039769, 0.38734582755027647, 0.41190410048421272, 0.41496706898026176, 0.37355603797552972, 0.43465694083509626, 0.35668970006346673, 0.38399743420325066]]\n"
     ]
    },
    {
     "data": {
      "image/png": "[encoded data removed]",
      "text/plain": [
       "<matplotlib.figure.Figure at 0x10bd9b588>"
      ]
     },
     "metadata": {},
     "output_type": "display_data"
    }
   ],
   "source": [
    "# determine optimal clustering K\n",
    "kmeans = Bootstrap.kmeans_bootstrap(bts, DO_K_SWEEP, BOOTSTRAP_N, DATA_START_INDEX, OPTIMAL_K, MAX_K)\n"
   ]
  },
  {
   "cell_type": "code",
   "execution_count": 7,
   "metadata": {},
   "outputs": [
    {
     "name": "stdout",
     "output_type": "stream",
     "text": [
      "running GMM\nK = 3 N = 0\nK = 3 N = 1\nK = 3 N = 2\nK = 3 N = 3\nK = 3 N = 4\nK = 3 N = 5\nK = 3 N = 6\nK = 3 N = 7\nK = 3 N = 8\nK = 3 N = 9\nK = 3 N = 10\n"
     ]
    },
    {
     "name": "stdout",
     "output_type": "stream",
     "text": [
      "K = 3 N = 11\nK = 3 N = 12\nK = 3 N = 13\nK = 3 N = 14\nK = 3 N = 15\nK = 3 N = 16\nK = 3 N = 17\nK = 3 N = 18\nK = 3 N = 19\nK = 3 N = 0\nK = 3 N = 1\nK = 3 N = 2\nK = 3 N = 3\nK = 3 N = 4\nK = 3 N = 5\nK = 3 N = 6\nK = 3 N = 7\nK = 3 N = 8\nK = 3 N = 9\n"
     ]
    },
    {
     "name": "stdout",
     "output_type": "stream",
     "text": [
      "K = 3 N = 10\nK = 3 N = 11\nK = 3 N = 12\nK = 3 N = 13\nK = 3 N = 14\nK = 3 N = 15\nK = 3 N = 16\nK = 3 N = 17\nK = 3 N = 18\nK = 3 N = 19\n"
     ]
    }
   ],
   "source": [
    "# max k determined above becomes optimal k\n",
    "gmm = RunAlgos(3, BOOTSTRAP_N, DATA_START_INDEX, bts, kmeans).run_GMM()\n",
    "agglomerative = RunAlgos(3, BOOTSTRAP_N, DATA_START_INDEX, bts, kmeans).run_Agglomerative()"
   ]
  },
  {
   "cell_type": "code",
   "execution_count": 11,
   "metadata": {},
   "outputs": [],
   "source": [
    "# consensus clustering\n",
    "cc_init = Consensus(kmeans, gmm, agglomerative, bts, df, DATA_START_INDEX, 3, labels)\n",
    "mats = cc_init.combine_results()"
   ]
  },
  {
   "cell_type": "code",
   "execution_count": 11,
   "metadata": {},
   "outputs": [],
   "source": [
    "# write consensus results to file\n",
    "cc = cc_init.consensus(mats)"
   ]
  },
  {
   "cell_type": "code",
   "execution_count": 31,
   "metadata": {},
   "outputs": [
    {
     "ename": "IndexError",
     "evalue": "list index out of range",
     "traceback": [
      "\u001b[0;31m---------------------------------------------------------------------------\u001b[0m",
      "\u001b[0;31mIndexError\u001b[0m                                Traceback (most recent call last)",
      "\u001b[0;32m<ipython-input-31-6fff61948bf5>\u001b[0m in \u001b[0;36m<module>\u001b[0;34m()\u001b[0m\n\u001b[0;32m----> 1\u001b[0;31m \u001b[0mcc_init\u001b[0m\u001b[0;34m.\u001b[0m\u001b[0mheatmaps\u001b[0m\u001b[0;34m(\u001b[0m\u001b[0mmats\u001b[0m\u001b[0;34m)\u001b[0m\u001b[0;34m\u001b[0m\u001b[0m\n\u001b[0m",
      "\u001b[0;32m/Users/KinZ/PycharmProjects/ConsensusClustering/Consensus.py\u001b[0m in \u001b[0;36mheatmaps\u001b[0;34m(mats)\u001b[0m\n\u001b[1;32m    119\u001b[0m                 \u001b[0;32mfor\u001b[0m \u001b[0mi\u001b[0m \u001b[0;32min\u001b[0m \u001b[0mrange\u001b[0m\u001b[0;34m(\u001b[0m\u001b[0mlen\u001b[0m\u001b[0;34m(\u001b[0m\u001b[0mmats\u001b[0m\u001b[0;34m)\u001b[0m\u001b[0;34m)\u001b[0m\u001b[0;34m:\u001b[0m\u001b[0;34m\u001b[0m\u001b[0m\n\u001b[1;32m    120\u001b[0m                         \u001b[0mplt\u001b[0m\u001b[0;34m.\u001b[0m\u001b[0mfigure\u001b[0m\u001b[0;34m(\u001b[0m\u001b[0;34m)\u001b[0m\u001b[0;34m\u001b[0m\u001b[0m\n\u001b[0;32m--> 121\u001b[0;31m                         \u001b[0mplt\u001b[0m\u001b[0;34m.\u001b[0m\u001b[0mtitle\u001b[0m\u001b[0;34m(\u001b[0m\u001b[0mtitles\u001b[0m\u001b[0;34m[\u001b[0m\u001b[0mi\u001b[0m\u001b[0;34m]\u001b[0m\u001b[0;34m)\u001b[0m\u001b[0;34m\u001b[0m\u001b[0m\n\u001b[0m\u001b[1;32m    122\u001b[0m                         \u001b[0mplt\u001b[0m\u001b[0;34m.\u001b[0m\u001b[0mxlabel\u001b[0m\u001b[0;34m(\u001b[0m\u001b[0;34m'First 20 samples in numeric order'\u001b[0m\u001b[0;34m)\u001b[0m\u001b[0;34m\u001b[0m\u001b[0m\n\u001b[1;32m    123\u001b[0m                         \u001b[0mplt\u001b[0m\u001b[0;34m.\u001b[0m\u001b[0mylabel\u001b[0m\u001b[0;34m(\u001b[0m\u001b[0;34m'Class label'\u001b[0m\u001b[0;34m)\u001b[0m\u001b[0;34m\u001b[0m\u001b[0m\n",
      "\u001b[0;31mIndexError\u001b[0m: list index out of range"
     ],
     "output_type": "error"
    },
    {
     "data": {
      "image/png": "[encoded data removed]",
      "text/plain": [
       "<matplotlib.figure.Figure at 0x11486dc88>"
      ]
     },
     "metadata": {},
     "output_type": "display_data"
    },
    {
     "data": {
      "image/png": "[encoded data removed]",
      "text/plain": [
       "<matplotlib.figure.Figure at 0x11485b3c8>"
      ]
     },
     "metadata": {},
     "output_type": "display_data"
    },
    {
     "data": {
      "image/png": "[encoded data removed]",
      "text/plain": [
       "<matplotlib.figure.Figure at 0x115168278>"
      ]
     },
     "metadata": {},
     "output_type": "display_data"
    },
    {
     "data": {
      "text/plain": [
       "<matplotlib.figure.Figure at 0x1150554e0>"
      ]
     },
     "execution_count": 0,
     "metadata": {},
     "output_type": "execute_result"
    }
   ],
   "source": [
    "cc_init.heatmaps(mats)\n"
   ]
  },
  {
   "cell_type": "code",
   "execution_count": null,
   "metadata": {},
   "outputs": [],
   "source": []
  }
 ],
 "metadata": {
  "kernelspec": {
   "display_name": "Python 2",
   "language": "python",
   "name": "python2"
  },
  "language_info": {
   "codemirror_mode": {
    "name": "ipython",
    "version": 2
   },
   "file_extension": ".py",
   "mimetype": "text/x-python",
   "name": "python",
   "nbconvert_exporter": "python",
   "pygments_lexer": "ipython2",
   "version": "2.7.6"
  }
 },
 "nbformat": 4,
 "nbformat_minor": 0
}
